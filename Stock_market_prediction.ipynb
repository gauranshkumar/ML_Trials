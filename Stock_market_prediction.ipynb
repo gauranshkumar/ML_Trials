{
  "nbformat": 4,
  "nbformat_minor": 0,
  "metadata": {
    "colab": {
      "name": "Stock_market_prediction.ipynb",
      "version": "0.3.2",
      "provenance": [],
      "collapsed_sections": [],
      "include_colab_link": true
    },
    "kernelspec": {
      "name": "python3",
      "display_name": "Python 3"
    },
    "accelerator": "GPU"
  },
  "cells": [
    {
      "cell_type": "markdown",
      "metadata": {
        "id": "view-in-github",
        "colab_type": "text"
      },
      "source": [
        "[View in Colaboratory](https://colab.research.google.com/github/gauranshkumar/ML_Trials/blob/master/Stock_market_prediction.ipynb)"
      ]
    },
    {
      "metadata": {
        "id": "j__HS7C44rtw",
        "colab_type": "code",
        "colab": {
          "base_uri": "https://localhost:8080/",
          "height": 238
        },
        "outputId": "12842ebd-3b71-4a81-bd52-4b07201a9431"
      },
      "cell_type": "code",
      "source": [
        "#installing Quandel\n",
        "!pip3 install quandl"
      ],
      "execution_count": 6,
      "outputs": [
        {
          "output_type": "stream",
          "text": [
            "Requirement already satisfied: quandl in /usr/local/lib/python3.6/dist-packages (3.4.2)\n",
            "Requirement already satisfied: python-dateutil in /usr/local/lib/python3.6/dist-packages (from quandl) (2.5.3)\n",
            "Requirement already satisfied: numpy>=1.8 in /usr/local/lib/python3.6/dist-packages (from quandl) (1.14.6)\n",
            "Requirement already satisfied: pandas>=0.14 in /usr/local/lib/python3.6/dist-packages (from quandl) (0.22.0)\n",
            "Requirement already satisfied: requests>=2.7.0 in /usr/local/lib/python3.6/dist-packages (from quandl) (2.18.4)\n",
            "Requirement already satisfied: six in /usr/local/lib/python3.6/dist-packages (from quandl) (1.11.0)\n",
            "Requirement already satisfied: inflection>=0.3.1 in /usr/local/lib/python3.6/dist-packages (from quandl) (0.3.1)\n",
            "Requirement already satisfied: more-itertools in /usr/local/lib/python3.6/dist-packages (from quandl) (4.3.0)\n",
            "Requirement already satisfied: pytz>=2011k in /usr/local/lib/python3.6/dist-packages (from pandas>=0.14->quandl) (2018.5)\n",
            "Requirement already satisfied: urllib3<1.23,>=1.21.1 in /usr/local/lib/python3.6/dist-packages (from requests>=2.7.0->quandl) (1.22)\n",
            "Requirement already satisfied: idna<2.7,>=2.5 in /usr/local/lib/python3.6/dist-packages (from requests>=2.7.0->quandl) (2.6)\n",
            "Requirement already satisfied: chardet<3.1.0,>=3.0.2 in /usr/local/lib/python3.6/dist-packages (from requests>=2.7.0->quandl) (3.0.4)\n",
            "Requirement already satisfied: certifi>=2017.4.17 in /usr/local/lib/python3.6/dist-packages (from requests>=2.7.0->quandl) (2018.8.24)\n"
          ],
          "name": "stdout"
        }
      ]
    },
    {
      "metadata": {
        "id": "gczFzyrM5PXw",
        "colab_type": "code",
        "colab": {}
      },
      "cell_type": "code",
      "source": [
        "import quandl\n",
        "import pandas as pd\n",
        "import math"
      ],
      "execution_count": 0,
      "outputs": []
    },
    {
      "metadata": {
        "id": "L2lyXOdm9U8U",
        "colab_type": "code",
        "colab": {}
      },
      "cell_type": "code",
      "source": [
        "#Collecting the google stock price dataset\n",
        "df = quandl.get(\"WIKI/GOOGL\")"
      ],
      "execution_count": 0,
      "outputs": []
    },
    {
      "metadata": {
        "id": "vgjo9Z7gFuje",
        "colab_type": "code",
        "colab": {
          "base_uri": "https://localhost:8080/",
          "height": 408
        },
        "outputId": "c910f712-cffd-45e1-d375-d9f52020bae3"
      },
      "cell_type": "code",
      "source": [
        "#printing the unprocessed data categories\n",
        "\n",
        "print(df.head())"
      ],
      "execution_count": 9,
      "outputs": [
        {
          "output_type": "stream",
          "text": [
            "              Open    High     Low    Close      Volume  Ex-Dividend  \\\n",
            "Date                                                                   \n",
            "2004-08-19  100.01  104.06   95.96  100.335  44659000.0          0.0   \n",
            "2004-08-20  101.01  109.08  100.50  108.310  22834300.0          0.0   \n",
            "2004-08-23  110.76  113.48  109.05  109.400  18256100.0          0.0   \n",
            "2004-08-24  111.24  111.60  103.57  104.870  15247300.0          0.0   \n",
            "2004-08-25  104.76  108.00  103.88  106.000   9188600.0          0.0   \n",
            "\n",
            "            Split Ratio  Adj. Open  Adj. High   Adj. Low  Adj. Close  \\\n",
            "Date                                                                   \n",
            "2004-08-19          1.0  50.159839  52.191109  48.128568   50.322842   \n",
            "2004-08-20          1.0  50.661387  54.708881  50.405597   54.322689   \n",
            "2004-08-23          1.0  55.551482  56.915693  54.693835   54.869377   \n",
            "2004-08-24          1.0  55.792225  55.972783  51.945350   52.597363   \n",
            "2004-08-25          1.0  52.542193  54.167209  52.100830   53.164113   \n",
            "\n",
            "            Adj. Volume  \n",
            "Date                     \n",
            "2004-08-19   44659000.0  \n",
            "2004-08-20   22834300.0  \n",
            "2004-08-23   18256100.0  \n",
            "2004-08-24   15247300.0  \n",
            "2004-08-25    9188600.0  \n"
          ],
          "name": "stdout"
        }
      ]
    },
    {
      "metadata": {
        "id": "EbZE0no6HCdk",
        "colab_type": "code",
        "colab": {
          "base_uri": "https://localhost:8080/",
          "height": 136
        },
        "outputId": "77bcc19c-1a9e-4c67-b45b-afdf87fddb2e"
      },
      "cell_type": "code",
      "source": [
        "#separating valuable features from the entire data\n",
        "\n",
        "df = df[['Adj. Open','Adj. High','Adj. Low','Adj. Close','Adj. Volume']]\n",
        "\n",
        "df['HL_PCT'] = (df['Adj. High'] - df['Adj. Close'])/df['Adj. Close']*100\n",
        "\n",
        "df['PCT_change'] = (df['Adj. Close'] - df['Adj. Open'])/df['Adj. Open']*100\n",
        "\n",
        "df = df[['Adj. Close', 'HL_PCT', 'PCT_change', 'Adj. Volume']]\n",
        "\n",
        "print(df.head())"
      ],
      "execution_count": 10,
      "outputs": [
        {
          "output_type": "stream",
          "text": [
            "            Adj. Close    HL_PCT  PCT_change  Adj. Volume\n",
            "Date                                                     \n",
            "2004-08-19   50.322842  3.712563    0.324968   44659000.0\n",
            "2004-08-20   54.322689  0.710922    7.227007   22834300.0\n",
            "2004-08-23   54.869377  3.729433   -1.227880   18256100.0\n",
            "2004-08-24   52.597363  6.417469   -5.726357   15247300.0\n",
            "2004-08-25   53.164113  1.886792    1.183658    9188600.0\n"
          ],
          "name": "stdout"
        }
      ]
    },
    {
      "metadata": {
        "id": "tftLjLKJIq7O",
        "colab_type": "code",
        "colab": {
          "base_uri": "https://localhost:8080/",
          "height": 289
        },
        "outputId": "4cc42ab0-65dd-4c36-9391-a337d131d41b"
      },
      "cell_type": "code",
      "source": [
        "#creating lables\n",
        "\n",
        "forecast_col = 'Adj. Close'\n",
        "\n",
        "df.fillna(-99999,inplace=True)\n",
        "\n",
        "\n",
        "forecast_out = int(math.ceil(0.01*len(df)))\n",
        "\n",
        "df['lable'] = df[forecast_col].shift(-forecast_out)\n",
        "\n",
        "df.dropna(inplace=True)\n",
        "\n",
        "print (df.head())\n",
        "\n",
        "print(\"\\n\\n\",df.tail())"
      ],
      "execution_count": 11,
      "outputs": [
        {
          "output_type": "stream",
          "text": [
            "            Adj. Close    HL_PCT  PCT_change  Adj. Volume      lable\n",
            "Date                                                                \n",
            "2004-08-19   50.322842  3.712563    0.324968   44659000.0  69.078238\n",
            "2004-08-20   54.322689  0.710922    7.227007   22834300.0  67.839414\n",
            "2004-08-23   54.869377  3.729433   -1.227880   18256100.0  68.912727\n",
            "2004-08-24   52.597363  6.417469   -5.726357   15247300.0  70.668146\n",
            "2004-08-25   53.164113  1.886792    1.183658    9188600.0  71.219849\n",
            "\n",
            "\n",
            "             Adj. Close    HL_PCT  PCT_change  Adj. Volume    lable\n",
            "Date                                                              \n",
            "2018-01-30     1177.37  0.896914   -0.029718    1792602.0  1094.00\n",
            "2018-01-31     1182.22  0.346805   -0.134312    1643877.0  1053.15\n",
            "2018-02-01     1181.59  0.495942    0.476195    2774967.0  1026.55\n",
            "2018-02-02     1119.20  1.081129   -0.729098    5798880.0  1054.09\n",
            "2018-02-05     1068.76  4.325574   -2.893850    3742469.0  1006.94\n"
          ],
          "name": "stdout"
        }
      ]
    },
    {
      "metadata": {
        "id": "DrtaHImfQXjs",
        "colab_type": "code",
        "colab": {}
      },
      "cell_type": "code",
      "source": [
        "import numpy as np\n",
        "from sklearn import cross_validation, svm, preprocessing\n",
        "from sklearn.linear_model import LinearRegression\n",
        "from sklearn.tree import DecisionTreeClassifier"
      ],
      "execution_count": 0,
      "outputs": []
    },
    {
      "metadata": {
        "id": "rJY2DVlfQllB",
        "colab_type": "code",
        "colab": {}
      },
      "cell_type": "code",
      "source": [
        "#createing training and testing data\n",
        "\n",
        "X = np.array(df.drop(['lable'],1))\n",
        "y = np.array(df['lable'])\n",
        "\n",
        "X_train, X_test, y_train, y_test = cross_validation.train_test_split(X, y, test_size=0.15)\n",
        "\n"
      ],
      "execution_count": 0,
      "outputs": []
    },
    {
      "metadata": {
        "id": "0WFkjBcQSFr7",
        "colab_type": "code",
        "colab": {
          "base_uri": "https://localhost:8080/",
          "height": 34
        },
        "outputId": "099309f9-a733-4dec-cd5d-6b93de88bfe5"
      },
      "cell_type": "code",
      "source": [
        "clf = LinearRegression()\n",
        "\n",
        "clf.fit(X_train, y_train)\n",
        "\n",
        "accuracy = clf.score(X_test, y_test)\n",
        "\n",
        "print(accuracy)"
      ],
      "execution_count": 16,
      "outputs": [
        {
          "output_type": "stream",
          "text": [
            "0.976339504536205\n"
          ],
          "name": "stdout"
        }
      ]
    },
    {
      "metadata": {
        "id": "iAxnY_thUIwP",
        "colab_type": "code",
        "colab": {}
      },
      "cell_type": "code",
      "source": [
        ""
      ],
      "execution_count": 0,
      "outputs": []
    }
  ]
}